{
  "nbformat": 4,
  "nbformat_minor": 0,
  "metadata": {
    "colab": {
      "provenance": []
    },
    "kernelspec": {
      "name": "python3",
      "display_name": "Python 3"
    },
    "language_info": {
      "name": "python"
    }
  },
  "cells": [
    {
      "cell_type": "markdown",
      "source": [
        "**PRACTICE EXERCISES ON PYTHON BASIC 2**"
      ],
      "metadata": {
        "id": "RRT6IV75DcHy"
      }
    },
    {
      "cell_type": "code",
      "execution_count": 2,
      "metadata": {
        "colab": {
          "base_uri": "https://localhost:8080/"
        },
        "id": "wIl-l4gtDRem",
        "outputId": "c1522bd9-3f96-4f7d-e590-300cfeeea31e"
      },
      "outputs": [
        {
          "output_type": "stream",
          "name": "stdout",
          "text": [
            " \n",
            "{'e': 1, 's': 2, 'a': 1, 'm': 1, 'b': 1, 'y': 1, 'l': 1}\n"
          ]
        }
      ],
      "source": [
        "#question 1\n",
        "\n",
        "inp_str = \"assembly\"\n",
        "\n",
        "out = {x : inp_str.count(x) for x in set(inp_str )}\n",
        "\n",
        "print (\" \\n\" + str(out))"
      ]
    },
    {
      "cell_type": "code",
      "source": [
        "#question 2\n",
        "\n",
        "def maximum(a,b,c):\n",
        "  list=[a,b,c]\n",
        "  return max(list)\n",
        "\n",
        "\n",
        "a=34\n",
        "b=12\n",
        "c=7\n",
        "print(maximum(a,b,c))"
      ],
      "metadata": {
        "colab": {
          "base_uri": "https://localhost:8080/"
        },
        "id": "44nAOL6fDiQ4",
        "outputId": "76d0f7c0-a6bb-4208-9829-9b2d82c652a8"
      },
      "execution_count": 3,
      "outputs": [
        {
          "output_type": "stream",
          "name": "stdout",
          "text": [
            "34\n"
          ]
        }
      ]
    },
    {
      "cell_type": "code",
      "source": [
        "#question 3\n",
        "def power(base,exp):\n",
        "    if(exp==1):\n",
        "        return(base)\n",
        "    if(exp!=1):\n",
        "        return(base*power(base,exp-1))\n",
        "base=int(input(\"Enter base: \"))\n",
        "exp=int(input(\"Enter exponential value: \"))\n",
        "print(\"Result:\",power(base,exp))"
      ],
      "metadata": {
        "colab": {
          "base_uri": "https://localhost:8080/"
        },
        "id": "E8rExN8UESYo",
        "outputId": "6a288081-6356-46d4-f078-ddbbee01782e"
      },
      "execution_count": 4,
      "outputs": [
        {
          "output_type": "stream",
          "name": "stdout",
          "text": [
            "Enter base: 2\n",
            "Enter exponential value: 3\n",
            "Result: 8\n"
          ]
        }
      ]
    },
    {
      "cell_type": "code",
      "source": [
        "#question 4\n",
        "def sum_of_cubes(n):\n",
        "    n -= 1\n",
        "    total = 0\n",
        "\n",
        "    while n > 0:\n",
        "\n",
        "        total += n * n * n\n",
        "\n",
        "        n -= 1\n",
        "    return total\n",
        "\n",
        "print(\"Sum of cubes smaller than the specified number: \", sum_of_cubes(4))"
      ],
      "metadata": {
        "colab": {
          "base_uri": "https://localhost:8080/"
        },
        "id": "kAGl0TeGEZuY",
        "outputId": "18f02b3f-9154-4e09-c8ca-445258e16e06"
      },
      "execution_count": 5,
      "outputs": [
        {
          "output_type": "stream",
          "name": "stdout",
          "text": [
            "Sum of cubes smaller than the specified number:  36\n"
          ]
        }
      ]
    },
    {
      "cell_type": "code",
      "source": [
        "#question 5\n",
        "\n",
        "for i in range(1, 11):\n",
        "  if i % 2 == 0 and i % 5 == 0:\n",
        "    print(\"FizzBuzz\")\n",
        "  elif i % 2 == 0:\n",
        "    print(\"Fizz\")\n",
        "  elif i % 5 == 0:\n",
        "    print(\"Buzz\")\n",
        "  else:\n",
        "    print(i)"
      ],
      "metadata": {
        "colab": {
          "base_uri": "https://localhost:8080/"
        },
        "id": "5-Bpa9hfEhUb",
        "outputId": "b53d0f4f-299e-4d39-893b-7c815b7e7e82"
      },
      "execution_count": 6,
      "outputs": [
        {
          "output_type": "stream",
          "name": "stdout",
          "text": [
            "1\n",
            "Fizz\n",
            "3\n",
            "Fizz\n",
            "Buzz\n",
            "Fizz\n",
            "7\n",
            "Fizz\n",
            "9\n",
            "FizzBuzz\n"
          ]
        }
      ]
    },
    {
      "cell_type": "code",
      "source": [
        "#question 6\n",
        "\n",
        "def most_frequent(nums):\n",
        "  return max(set(nums), key = nums.count)\n",
        "\n",
        "nums = [2, 3, 4, 2, 5, 2]\n",
        "\n",
        "most_frequent_item = most_frequent(nums)\n",
        "print(most_frequent_item)"
      ],
      "metadata": {
        "colab": {
          "base_uri": "https://localhost:8080/"
        },
        "id": "ncQMje8OEmn2",
        "outputId": "8553e564-6b9f-425d-c7df-6beb933d8ec8"
      },
      "execution_count": 7,
      "outputs": [
        {
          "output_type": "stream",
          "name": "stdout",
          "text": [
            "2\n"
          ]
        }
      ]
    },
    {
      "cell_type": "code",
      "source": [
        "#question 7\n",
        "\n",
        "def sum_of_squares(nums):\n",
        "  return sum(x**2 for x in nums)\n",
        "\n",
        "nums = [2, 1, 3, 1]\n",
        "\n",
        "result = sum_of_squares(nums)\n",
        "\n",
        "print(result)"
      ],
      "metadata": {
        "colab": {
          "base_uri": "https://localhost:8080/"
        },
        "id": "GHgB5o2wEs32",
        "outputId": "81a1e16e-35fe-43fb-db7e-a03131f56748"
      },
      "execution_count": 8,
      "outputs": [
        {
          "output_type": "stream",
          "name": "stdout",
          "text": [
            "15\n"
          ]
        }
      ]
    },
    {
      "cell_type": "code",
      "source": [
        "#question 8\n",
        "\n",
        "for i in range(1, 16):\n",
        "  if i % 2 == 0:\n",
        "    print(f\"{i}-even\")\n",
        "  else:\n",
        "    print(f\"{i}-odd\")"
      ],
      "metadata": {
        "colab": {
          "base_uri": "https://localhost:8080/"
        },
        "id": "lp7cznfnE0gq",
        "outputId": "6aaf5230-846e-42df-98b9-ef9621af42dc"
      },
      "execution_count": 9,
      "outputs": [
        {
          "output_type": "stream",
          "name": "stdout",
          "text": [
            "1-odd\n",
            "2-even\n",
            "3-odd\n",
            "4-even\n",
            "5-odd\n",
            "6-even\n",
            "7-odd\n",
            "8-even\n",
            "9-odd\n",
            "10-even\n",
            "11-odd\n",
            "12-even\n",
            "13-odd\n",
            "14-even\n",
            "15-odd\n"
          ]
        }
      ]
    },
    {
      "cell_type": "code",
      "source": [
        "#question 9\n",
        "\n",
        "def fahrenheit_to_celsius(f):\n",
        "  return (f - 32) * 5 / 9\n",
        "\n",
        "def celsius_to_fahrenheit(c):\n",
        "  return c * 9 / 5 + 32\n",
        "\n",
        "fahrenheit_temp = 41\n",
        "celsius_temp = fahrenheit_to_celsius(fahrenheit_temp)\n",
        "print(f\"Temperature in Celsius = {int(celsius_temp)}\")"
      ],
      "metadata": {
        "colab": {
          "base_uri": "https://localhost:8080/"
        },
        "id": "N_zMyXKkE2tb",
        "outputId": "b58b2fd7-5713-4dad-d60b-a1e2df847d01"
      },
      "execution_count": 10,
      "outputs": [
        {
          "output_type": "stream",
          "name": "stdout",
          "text": [
            "Temperature in Celsius = 5\n"
          ]
        }
      ]
    },
    {
      "cell_type": "code",
      "source": [
        "#question 10\n",
        "\n",
        "def factorial(n):\n",
        "  if n == 0:\n",
        "    return 1\n",
        "  else:\n",
        "    return n * factorial(n-1)\n",
        "\n",
        "\n",
        "num = 3\n",
        "\n",
        "\n",
        "result = factorial(num)\n",
        "\n",
        "\n",
        "print(result)"
      ],
      "metadata": {
        "colab": {
          "base_uri": "https://localhost:8080/"
        },
        "id": "xn9QrMKlE-tf",
        "outputId": "c4bfb5c3-9ab4-45eb-f860-0acf7da8c20b"
      },
      "execution_count": 11,
      "outputs": [
        {
          "output_type": "stream",
          "name": "stdout",
          "text": [
            "6\n"
          ]
        }
      ]
    }
  ]
}